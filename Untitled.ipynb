{
 "cells": [
  {
   "cell_type": "code",
   "execution_count": 5,
   "id": "cc2ae31b-08e8-4c65-98ef-c313f82ff059",
   "metadata": {},
   "outputs": [],
   "source": [
    "import mlrun\n",
    "\n",
    "no_k8s=False if mlrun.mlconf.namespace else True"
   ]
  },
  {
   "cell_type": "code",
   "execution_count": 16,
   "id": "08492a64-c78d-4985-91f7-9c76bfeb8df4",
   "metadata": {},
   "outputs": [
    {
     "name": "stdout",
     "output_type": "stream",
     "text": [
      "> 2025-04-12 13:24:40,037 [info] Identified pre-initialized git repo, using it: {\"url\":\"git://github.com/PraneelUJ/CS_203_Lab9#refs/heads/main\"}\n",
      "> 2025-04-12 13:24:40,076 [info] Created and saved project: {\"context\":\"./\",\"from_template\":null,\"name\":\"sttai-lab9-jovyan\",\"overwrite\":false,\"save\":true}\n"
     ]
    }
   ],
   "source": [
    "project= mlrun.new_project(\"sttai-lab9\",\"./\",user_project=True,init_git=True)"
   ]
  },
  {
   "cell_type": "code",
   "execution_count": 17,
   "id": "01cb6cc3-2893-4735-9c91-3d6f200c4563",
   "metadata": {},
   "outputs": [
    {
     "name": "stdout",
     "output_type": "stream",
     "text": [
      "> 2025-04-12 13:24:46,607 [warning] Failed to add git metadata: {\"error\":\"Reference at 'refs/heads/main' does not exist\",\"path\":\"./\"}\n",
      "> 2025-04-12 13:24:46,614 [warning] Failed to add git metadata: {\"error\":\"Reference at 'refs/heads/main' does not exist\",\"path\":\"./\"}\n",
      "> 2025-04-12 13:24:46,622 [warning] Failed to add git metadata: {\"error\":\"Reference at 'refs/heads/main' does not exist\",\"path\":\"./\"}\n"
     ]
    },
    {
     "data": {
      "text/plain": [
       "<mlrun.projects.project.MlrunProject at 0x7fe8030b5ee0>"
      ]
     },
     "execution_count": 17,
     "metadata": {},
     "output_type": "execute_result"
    }
   ],
   "source": [
    "project.set_function(\"Data_prep.py\",\"load-cancer-data\",image=\"mlrun/mlrun\")\n",
    "project.set_function(\"Trainer.py\",\"trainer\",image=\"mlrun/mlrun\")\n",
    "project.set_function(\"serving.py\",\"serving\",image=\"mlrun/mlrun\",kind=\"serving\")\n",
    "project.save()"
   ]
  },
  {
   "cell_type": "code",
   "execution_count": null,
   "id": "7cd1fc4e-0622-4644-a401-03716006d1e3",
   "metadata": {},
   "outputs": [],
   "source": []
  }
 ],
 "metadata": {
  "kernelspec": {
   "display_name": "Python 3 (ipykernel)",
   "language": "python",
   "name": "python3"
  },
  "language_info": {
   "codemirror_mode": {
    "name": "ipython",
    "version": 3
   },
   "file_extension": ".py",
   "mimetype": "text/x-python",
   "name": "python",
   "nbconvert_exporter": "python",
   "pygments_lexer": "ipython3",
   "version": "3.9.13"
  }
 },
 "nbformat": 4,
 "nbformat_minor": 5
}
